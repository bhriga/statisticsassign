{
 "cells": [
  {
   "cell_type": "code",
   "execution_count": null,
   "id": "7ab9f574-6f21-484e-b2df-797f4b88cc16",
   "metadata": {},
   "outputs": [],
   "source": [
    "Q1. What are the three measures of central tendency?\n",
    "\n",
    "answer:\n",
    "\n",
    "The three measures of central tendency are:\n",
    "\n",
    "Mean: The mean, also known as the average, is calculated by summing up all the values in a dataset and then dividing the \n",
    "sum by the total number of values. It represents the central value around which the data tend to cluster. The mean is \n",
    "sensitive to outliers, as it takes into account the value of each data point.\n",
    "\n",
    "Median: The median is the middle value in a dataset when the values are arranged in ascending or descending order. \n",
    "If the dataset has an odd number of values, the median is the middle value. If the dataset has an even number of values,\n",
    "    the median is the average of the two middle values. The median is less sensitive to outliers compared to the mean, \n",
    "    making it a robust measure of central tendency.\n",
    "\n",
    "Mode: The mode is the value that appears most frequently in a dataset. It represents the value that occurs with the highest\n",
    "frequency. A dataset can have one mode (unimodal), two modes (bimodal), or more than two modes (multimodal). If no value \n",
    "repeats, the dataset is considered to have no mode. The mode is particularly useful for categorical data, but it can also\n",
    "be applied to numerical data."
   ]
  },
  {
   "cell_type": "code",
   "execution_count": null,
   "id": "b4b93d59-f4b4-421d-8c2c-3abb1590e26b",
   "metadata": {},
   "outputs": [],
   "source": [
    "Q2. What is the difference between the mean, median, and mode? How are they used to measure the\n",
    "central tendency of a dataset?"
   ]
  },
  {
   "cell_type": "code",
   "execution_count": null,
   "id": "2c887818-ef01-40c7-a0e9-4547e6d09b85",
   "metadata": {},
   "outputs": [],
   "source": [
    "\n",
    "The mean, median, and mode are all measures of central tendency used to summarize the central or typical value of a dataset.\n",
    "However, they differ in how they are calculated and in what aspects of the data they emphasize.\n",
    "\n",
    "Mean:\n",
    "\n",
    "The mean, also known as the average, is calculated by summing up all the values in a dataset and then dividing by the total\n",
    "number of values.\n",
    "Formula: Mean = (Sum of all values) / (Total number of values)\n",
    "The mean takes into account the value of each data point in the dataset.\n",
    "It is sensitive to outliers, as extreme values can significantly affect its value.\n",
    "The mean is commonly used to describe the central tendency of a dataset when the distribution is approximately symmetric \n",
    "and not heavily skewed.\n",
    "Median:\n",
    "\n",
    "The median is the middle value in a dataset when the values are arranged in ascending or descending order.\n",
    "If the dataset has an odd number of values, the median is the middle value.\n",
    "If the dataset has an even number of values, the median is the average of the two middle values.\n",
    "The median is less affected by outliers compared to the mean, making it a more robust measure of central tendency in the \n",
    "presence of skewed data or outliers.\n",
    "The median is particularly useful when the dataset contains extreme values or when the distribution is heavily skewed.\n",
    "Mode:\n",
    "\n",
    "The mode is the value that appears most frequently in a dataset.\n",
    "A dataset can have one mode (unimodal), two modes (bimodal), or more than two modes (multimodal).\n",
    "If no value repeats, the dataset is considered to have no mode.\n",
    "The mode is useful for describing the central tendency of categorical data, but it can also be applied to numerical data.\n",
    "Unlike the mean and median, the mode does not consider the numerical value of each data point but instead focuses on the \n",
    "frequency of occurrence.\n",
    "In summary, the mean, median, and mode are all measures of central tendency used to summarize the central or typical value \n",
    "of a dataset. The mean represents the average value, the median represents the middle value, and the mode represents the most\n",
    "frequent value. Each measure has its strengths and weaknesses and is used depending on the characteristics of the data and \n",
    "the research question at hand.\n"
   ]
  },
  {
   "cell_type": "code",
   "execution_count": null,
   "id": "c65f8981-b6f0-4dab-bad7-7bc19ae292b6",
   "metadata": {},
   "outputs": [],
   "source": [
    "Q3. Measure the three measures of central tendency for the given height data:\n",
    "[178,177,176,177,178.2,178,175,179,180,175,178.9,176.2,177,172.5,178,176.5]"
   ]
  },
  {
   "cell_type": "code",
   "execution_count": 1,
   "id": "2899d66c-87a6-475e-a3f1-042f040ba5df",
   "metadata": {},
   "outputs": [],
   "source": [
    "data1=[178,177,176,177,178.2,178,175,179,180,175,178.9,176.2,177,172.5,178,176.5]"
   ]
  },
  {
   "cell_type": "code",
   "execution_count": 12,
   "id": "caf3259c-8077-4690-a3ac-251acd1f098c",
   "metadata": {},
   "outputs": [
    {
     "data": {
      "text/plain": [
       "177.01875"
      ]
     },
     "execution_count": 12,
     "metadata": {},
     "output_type": "execute_result"
    }
   ],
   "source": [
    "import numpy as np\n",
    "np.mean(data1)\n"
   ]
  },
  {
   "cell_type": "code",
   "execution_count": 13,
   "id": "162ac29f-2e4c-4d59-86f3-1dbdaeddf2ea",
   "metadata": {},
   "outputs": [
    {
     "data": {
      "text/plain": [
       "177.0"
      ]
     },
     "execution_count": 13,
     "metadata": {},
     "output_type": "execute_result"
    }
   ],
   "source": [
    "np.median(data1)"
   ]
  },
  {
   "cell_type": "code",
   "execution_count": null,
   "id": "09b5b2ec-d9f4-4957-bdea-f2072e6c9ca3",
   "metadata": {},
   "outputs": [],
   "source": [
    "Q4. Find the standard deviation for the given data:\n",
    "[178,177,176,177,178.2,178,175,179,180,175,178.9,176.2,177,172.5,178,176.5]"
   ]
  },
  {
   "cell_type": "code",
   "execution_count": 14,
   "id": "b19f8545-39d2-41d0-9856-83aeab6f5c38",
   "metadata": {},
   "outputs": [
    {
     "data": {
      "text/plain": [
       "1.7885814036548633"
      ]
     },
     "execution_count": 14,
     "metadata": {},
     "output_type": "execute_result"
    }
   ],
   "source": [
    "np.std(data1)"
   ]
  },
  {
   "cell_type": "code",
   "execution_count": null,
   "id": "ae21812e-2348-40e3-aa50-f3e8574e7d1a",
   "metadata": {},
   "outputs": [],
   "source": [
    "Q5. How are measures of dispersion such as range, variance, and standard deviation used to describe\n",
    "the spread of a dataset? Provide an example."
   ]
  },
  {
   "cell_type": "code",
   "execution_count": null,
   "id": "d8b804ed-c563-457a-9632-e33d97577d87",
   "metadata": {},
   "outputs": [],
   "source": [
    "\n",
    "Measures of dispersion, such as range, variance, and standard deviation, are used to quantify the extent to which the values in a dataset vary or spread out from the central tendency. They provide valuable information about the variability or spread of the data points within the dataset.\n",
    "\n",
    "Range:\n",
    "\n",
    "The range is the simplest measure of dispersion and represents the difference between the maximum and minimum values in a dataset.\n",
    "It provides a rough indication of the spread of the data but is sensitive to outliers.\n",
    "Larger ranges indicate greater variability in the dataset.\n",
    "Formula: Range = Maximum value - Minimum value\n",
    "Variance:\n",
    "\n",
    "Variance measures the average squared deviation of each data point from the mean of the dataset.\n",
    "It provides a more precise measure of variability compared to the range.\n",
    "Larger variances indicate greater variability in the dataset.\n",
    "Formula: Variance = \n",
    "\n",
    "n is the number of data points.\n",
    "Standard Deviation:\n",
    "\n",
    "Standard deviation is the square root of the variance and represents the average distance of data points from the mean.\n",
    "It is expressed in the same units as the original data.\n",
    "Larger standard deviations indicate greater variability in the dataset.\n",
    "\n",
    " \n",
    "Here's an example illustrating how these measures of dispersion are used to describe the spread of a dataset:\n",
    "\n",
    "Suppose we have a dataset representing the daily temperatures (in degrees Celsius) recorded over a week:\n",
    "\n",
    "Temperatures: [20, 22, 19, 25, 18, 21, 23]\n",
    "Range:\n",
    "\n",
    "Range = Maximum value - Minimum value = 25 - 18 = 7 degrees Celsius\n",
    "The range tells us that temperatures vary by 7 degrees Celsius over the week.\n",
    "Variance:\n",
    "\n",
    "Temperatures: [20, 22, 19, 25, 18, 21, 23]\n",
    "Variance ≈ 5.33 square degrees Celsius\n",
    "The variance quantifies the average squared deviation of temperatures from the mean.\n",
    "Standard Deviation:\n",
    "\n",
    "Standard Deviation ≈ \n",
    "5.33\n",
    "5.33\n",
    "​\n",
    "  ≈ 2.31 degrees Celsius\n",
    "The standard deviation tells us that temperatures typically deviate from the mean by around 2.31 degrees Celsius.\n",
    "In summary, measures of dispersion such as range, variance, and standard deviation provide valuable insights into the spread\n",
    "or variability of data points within a dataset, helping to characterize the distribution of the data more comprehensively.\n",
    "\n",
    "\n",
    "\n",
    "\n",
    "\n"
   ]
  },
  {
   "cell_type": "code",
   "execution_count": null,
   "id": "d38dab64-59b1-491f-8bd6-57b7a3282bca",
   "metadata": {},
   "outputs": [],
   "source": [
    "Q6. What is a Venn diagram?"
   ]
  },
  {
   "cell_type": "code",
   "execution_count": null,
   "id": "dffece2c-fa12-41bb-b40f-02a040a62569",
   "metadata": {},
   "outputs": [],
   "source": [
    "A Venn diagram is a graphical representation used to visualize the relationships between different sets or groups of items. \n",
    "It consists of overlapping circles, each representing a set, with the overlapping areas indicating the intersections between\n",
    "the sets. Venn diagrams are named after John Venn, who introduced them in the late 19th century.\n",
    "\n",
    "Key features of a Venn diagram:\n",
    "\n",
    "Circles: Each circle in a Venn diagram represents a set or group of items. The items belonging to a particular set are\n",
    "represented by the elements inside the circle.\n",
    "\n",
    "Intersections: The overlapping areas between circles represent the intersections between the corresponding sets. These\n",
    "intersections show the elements that are common to multiple sets.\n",
    "\n",
    "Non-overlapping Regions: The non-overlapping regions within each circle represent the elements that belong exclusively to\n",
    "that set and not to any other set."
   ]
  },
  {
   "cell_type": "code",
   "execution_count": null,
   "id": "09822e22-a6e1-47cb-8dfe-bd12735d5133",
   "metadata": {},
   "outputs": [],
   "source": [
    "Q7. For the two given sets A = (2,3,4,5,6,7) & B = (0,2,6,8,10). Find:\n",
    "(i) A B\n",
    "(ii) A ⋃ B"
   ]
  },
  {
   "cell_type": "code",
   "execution_count": null,
   "id": "c32a719a-b949-4ce8-8231-90d4015522cb",
   "metadata": {},
   "outputs": [],
   "source": [
    " A ∩ B = {2, 6}\n",
    " A ∪ B = {0, 2, 3, 4, 5, 6, 7, 8, 10}"
   ]
  },
  {
   "cell_type": "code",
   "execution_count": null,
   "id": "6bebe55e-e428-4ec4-9616-9bfe0663f531",
   "metadata": {},
   "outputs": [],
   "source": [
    "Q8. What do you understand about skewness in data?"
   ]
  },
  {
   "cell_type": "code",
   "execution_count": null,
   "id": "029b1988-8824-4f88-8278-b4dc4d245c3c",
   "metadata": {},
   "outputs": [],
   "source": [
    "Skewness in data refers to the asymmetry or lack of symmetry in the distribution of data points within a dataset. It is a\n",
    "measure of the deviation of the dataset from a symmetrical distribution. Skewness can provide insights into the shape and\n",
    "nature of the distribution of data.\n",
    "\n",
    "There are three types of skewness:\n",
    "\n",
    "Positive Skewness (Right Skew):\n",
    "\n",
    "In a positively skewed distribution, the tail of the distribution extends towards the right, indicating that the majority \n",
    "of the data points are concentrated on the left side of the distribution.\n",
    "The mean is typically greater than the median in a positively skewed distribution.\n",
    "Positive skewness often occurs when there are a few extremely high values or outliers in the dataset.\n",
    "Negative Skewness (Left Skew):\n",
    "\n",
    "In a negatively skewed distribution, the tail of the distribution extends towards the left, indicating that the majority \n",
    "of the data points are concentrated on the right side of the distribution.\n",
    "The mean is typically less than the median in a negatively skewed distribution.\n",
    "Negative skewness often occurs when there are a few extremely low values or outliers in the dataset.\n",
    "Zero Skewness:\n",
    "\n",
    "A distribution is said to have zero skewness if it is perfectly symmetrical, with equal tails on both sides of the \n",
    "distribution.\n",
    "In a distribution with zero skewness, the mean and median are equal, and the distribution is balanced around the central\n",
    "point.\n",
    "Skewness can be quantified using statistical measures such as the skewness coefficient. The skewness coefficient measures\n",
    "the degree and direction of skewness in the data distribution. A skewness coefficient of 0 indicates a perfectly symmetrical \n",
    "distribution, while positive and negative values indicate positive and negative skewness, respectively."
   ]
  },
  {
   "cell_type": "code",
   "execution_count": null,
   "id": "a2c3ad39-3fb8-4b7b-b78a-4c6ef6b81397",
   "metadata": {},
   "outputs": [],
   "source": [
    "Q9. If a data is right skewed then what will be the position of median with respect to mean?"
   ]
  },
  {
   "cell_type": "code",
   "execution_count": null,
   "id": "82e00d2e-6a04-4f2e-81ea-703c957a3efe",
   "metadata": {},
   "outputs": [],
   "source": [
    "In a right-skewed distribution, the tail of the distribution is longer on the right side, indicating that there are\n",
    "relatively more data points with higher values.\n",
    "Because of the presence of these higher values, the mean will be pulled towards the right by the skewness, resulting in a \n",
    "mean that is larger than the median.\n",
    "In a right-skewed distribution, the median will typically be smaller than the mean and closer to the left side of the \n",
    "distribution, where the bulk of the data points are concentrated.\n",
    "In summary, in a right-skewed distribution, the median will typically be smaller than the mean, and it will be positioned \n",
    "closer to the left side of the distribution where the majority of the data points are located"
   ]
  },
  {
   "cell_type": "code",
   "execution_count": null,
   "id": "1f9587e1-8932-4855-90a1-a0097fe4ab4d",
   "metadata": {},
   "outputs": [],
   "source": [
    "Q10. Explain the difference between covariance and correlation. How are these measures used in\n",
    "statistical analysis?"
   ]
  },
  {
   "cell_type": "code",
   "execution_count": null,
   "id": "0bd538ea-6441-4d3a-b13b-2b99a2dca46f",
   "metadata": {},
   "outputs": [],
   "source": [
    "\n",
    "Covariance and correlation are both measures of the relationship between two variables, but they differ in their interpretation, scale, and the type of relationship they describe.\n",
    "\n",
    "Covariance:\n",
    "\n",
    "Covariance measures the degree to which two variables change together. It indicates the direction of the linear relationship\n",
    "between two variables.\n",
    "The covariance can take on any value, positive or negative, depending on the direction of the relationship between the \n",
    "variables.\n",
    "However, the magnitude of the covariance is not standardized and depends on the units of the variables, making it difficult\n",
    "to interpret the strength of the relationship based solely on the covariance value.\n",
    "\n",
    "Covariance can be used to identify whether two variables tend to move in the same direction (positive covariance) or in \n",
    "opposite directions (negative covariance). However, it does not provide a standardized measure of the strength of the \n",
    "relationship.\n",
    "Correlation:\n",
    "\n",
    "Correlation measures the strength and direction of the linear relationship between two variables. It provides a standardized\n",
    "measure of the relationship, independent of the scale of measurement of the variables.\n",
    "The correlation coefficient, denoted by \n",
    "�\n",
    "r, ranges from -1 to 1. A correlation of 1 indicates a perfect positive linear relationship, a correlation of -1 indicates a\n",
    "perfect negative linear relationship, and a correlation of 0 indicates no linear relationship.\n",
    "\n",
    " \n",
    "Correlation is a more interpretable measure compared to covariance, as it standardizes the relationship between variables and\n",
    "allows for a more meaningful comparison of the strength of the relationship.\n",
    "Correlation is widely used in various fields such as finance, economics, and social sciences to analyze relationships between\n",
    "variables, identify patterns, and make predictions."
   ]
  },
  {
   "cell_type": "code",
   "execution_count": null,
   "id": "ffdfeef1-2e1f-439d-b098-311234569d6c",
   "metadata": {},
   "outputs": [],
   "source": [
    "In statistical analysis:\n",
    "\n",
    "Covariance is used to measure the degree of linear relationship between two variables and to identify the direction of the \n",
    "relationship.\n",
    "Correlation is used to quantify the strength and direction of the linear relationship between two variables in a standardized\n",
    "manner. It provides a more interpretable measure of the relationship compared to covariance, making it suitable for comparing\n",
    "relationships across different datasets or variables with different scales of measurement.\n",
    "Both covariance and correlation are valuable tools for understanding the relationships between variables,\n",
    "identifying patterns in data, and making informed decisions in various fields of study.\n"
   ]
  },
  {
   "cell_type": "code",
   "execution_count": null,
   "id": "2e0d5956-bab2-4826-ab4d-fba7dfa4953c",
   "metadata": {},
   "outputs": [],
   "source": [
    "Q11. What is the formula for calculating the sample mean? Provide an example calculation for a\n",
    "dataset."
   ]
  },
  {
   "cell_type": "code",
   "execution_count": null,
   "id": "d82d631c-6d81-4e02-8947-49475f8568ca",
   "metadata": {},
   "outputs": [],
   "source": [
    "      n\n",
    "x' = ∑  xi/n\n",
    "​      i=1​\n",
    "\n",
    "​"
   ]
  },
  {
   "cell_type": "code",
   "execution_count": null,
   "id": "c1234c3e-e028-46a9-812d-c81e34c8aed3",
   "metadata": {},
   "outputs": [],
   "source": [
    "Here's an example calculation for a dataset:\n",
    "\n",
    "Let's consider a dataset representing the heights (in inches) of students in a class:\n",
    "\n",
    "Heights: \n",
    "[\n",
    "65\n",
    ",\n",
    "68\n",
    ",\n",
    "70\n",
    ",\n",
    "62\n",
    ",\n",
    "72\n",
    ",\n",
    "69\n",
    ",\n",
    "71\n",
    ",\n",
    "67\n",
    ",\n",
    "66\n",
    ",\n",
    "68\n",
    "]\n",
    "Heights: [65,68,70,62,72,69,71,67,66,68]\n",
    "\n",
    "To calculate the sample mean:\n",
    "\n",
    "Sum all the values in the dataset:\n",
    "65\n",
    "+\n",
    "68\n",
    "+\n",
    "70\n",
    "+\n",
    "62\n",
    "+\n",
    "72\n",
    "+\n",
    "69\n",
    "+\n",
    "71\n",
    "+\n",
    "67\n",
    "+\n",
    "66\n",
    "+\n",
    "68\n",
    "=\n",
    "678\n",
    "65+68+70+62+72+69+71+67+66+68=678\n",
    "\n",
    "Count the total number of values in the dataset:\n",
    "�\n",
    "=\n",
    "10\n",
    "n=10\n",
    "\n",
    "Calculate the sample mean using the formula:\n",
    "�\n",
    "ˉ\n",
    "=\n",
    "678\n",
    "10\n",
    "=\n",
    "67.8\n",
    "x\n",
    "ˉ\n",
    " = \n",
    "10\n",
    "678\n",
    "​\n",
    " =67.8\n",
    "\n",
    "So, the sample mean height of the students in the class is 67.8 inches."
   ]
  },
  {
   "cell_type": "code",
   "execution_count": null,
   "id": "40f93738-4872-4958-9933-22674692c2f0",
   "metadata": {},
   "outputs": [],
   "source": [
    "Q12. For a normal distribution data what is the relationship between its measure of central tendency?"
   ]
  },
  {
   "cell_type": "code",
   "execution_count": null,
   "id": "893eebf2-df93-40bd-998d-5730d05084a7",
   "metadata": {},
   "outputs": [],
   "source": [
    "\n",
    "For a normal distribution, the relationship between its measures of central tendency, namely the mean, median, and mode, is\n",
    "as follows:\n",
    "\n",
    "Mean:\n",
    "\n",
    "In a normal distribution, the mean, median, and mode are all equal.\n",
    "The mean of a normal distribution is located at the center of the distribution, and the distribution is symmetric around the\n",
    "mean.\n",
    "Therefore, the mean serves as a measure of central tendency that represents the central value of the distribution.\n",
    "Median:\n",
    "\n",
    "The median of a normal distribution is also located at the center of the distribution.\n",
    "Since the normal distribution is symmetric, the median coincides with the mean and mode.\n",
    "The median is the middle value of the distribution, separating the data into two equal halves.\n",
    "Mode:\n",
    "\n",
    "In a normal distribution, the mode is the value with the highest frequency, which occurs at the peak of the distribution.\n",
    "Since the normal distribution is symmetric, the mode coincides with the mean and median.\n",
    "In a perfectly symmetrical normal distribution, there is only one mode.\n",
    "In summary, for a normal distribution, the mean, median, and mode are all equal and located at the center of the distribution.\n",
    "They represent the central tendency of the distribution and are symmetrically distributed around each other. \n",
    "This relationship holds true for any normal distribution, regardless of its mean and standard deviation."
   ]
  },
  {
   "cell_type": "code",
   "execution_count": null,
   "id": "6a945944-0d81-4c1a-bbff-e1aa28881024",
   "metadata": {},
   "outputs": [],
   "source": [
    "Q13. How is covariance different from correlation?"
   ]
  },
  {
   "cell_type": "code",
   "execution_count": null,
   "id": "2134a53b-6c5d-4b55-8294-a8cb4313c9da",
   "metadata": {},
   "outputs": [],
   "source": [
    "\n",
    "Covariance and correlation are both measures used to quantify the relationship between two variables, but they differ in \n",
    "several key aspects:\n",
    "\n",
    "Definition:\n",
    "\n",
    "Covariance: Covariance measures the degree to which two variables change together. It indicates the direction of the linear \n",
    "relationship between the variables but does not provide a standardized measure of the strength of the relationship.\n",
    "Correlation: Correlation measures the strength and direction of the linear relationship between two variables. It provides \n",
    "a standardized measure of the relationship, making it easier to interpret and compare across different datasets.\n",
    "Scale:\n",
    "\n",
    "Covariance: Covariance can take on any value, positive or negative, depending on the direction of the relationship between\n",
    "the variables. However, the magnitude of covariance is not standardized and depends on the units of the variables, making it\n",
    "difficult to compare the strength of the relationship.\n",
    "Correlation: Correlation coefficients range from -1 to 1, where a correlation of 1 indicates a perfect positive linear \n",
    "relationship, a correlation of -1 indicates a perfect negative linear relationship, and a correlation of 0 indicates no\n",
    "linear relationship. The correlation coefficient provides a standardized measure of the strength and direction of the \n",
    "relationship, independent of the scale of measurement of the variables.\n",
    "Interpretation:\n",
    "\n",
    "Covariance: Covariance indicates the direction of the relationship between two variables (positive or negative) but does\n",
    "not provide a clear indication of the strength of the relationship.\n",
    "Correlation: Correlation coefficients provide a standardized measure of the strength and direction of the relationship \n",
    "between two variables. A correlation close to 1 or -1 indicates a strong linear relationship, while a correlation close to\n",
    "0 indicates a weak or no linear relationship.\n",
    "Range:\n",
    "\n",
    "Covariance: Covariance can range from negative infinity to positive infinity.\n",
    "Correlation: Correlation coefficients range from -1 to 1.\n",
    "In summary, while both covariance and correlation measure the relationship between two variables, correlation provides a\n",
    "standardized measure of the strength and direction of the relationship, making it easier to interpret and compare across\n",
    "different datasets. Covariance, on the other hand, does not provide a standardized measure and is more sensitive to changes\n",
    "in the scale of measurement of the variables.\n"
   ]
  },
  {
   "cell_type": "code",
   "execution_count": null,
   "id": "cc3c3148-81e2-48df-aafe-24a180060024",
   "metadata": {},
   "outputs": [],
   "source": [
    "Outliers can significantly impact measures of central tendency and dispersion, affecting their accuracy and reliability. \n",
    "Here's how outliers can affect these measures:\n",
    "\n",
    "Measures of Central Tendency:\n",
    "\n",
    "Outliers can distort measures of central tendency, such as the mean, median, and mode.\n",
    "The mean is particularly sensitive to outliers because it takes into account the value of each data point. A single extreme\n",
    "value can pull the mean towards it, resulting in a misleading representation of the central tendency.\n",
    "The median is less affected by outliers since it is based on the middle value of the dataset. Outliers have less influence\n",
    "on the median compared to the mean.\n",
    "The mode may not be affected by outliers if they occur infrequently or do not significantly impact the frequency distribution.\n",
    "Measures of Dispersion:\n",
    "\n",
    "Outliers can also impact measures of dispersion, such as the range, variance, and standard deviation.\n",
    "The range is affected by outliers since it depends on the difference between the maximum and minimum values in the dataset.\n",
    "Outliers can increase the range, making it a less reliable measure of dispersion.\n",
    "Variance and standard deviation are influenced by the squared differences between each data point and the mean. \n",
    "Outliers with large deviations from the mean can inflate the variance and standard deviation, overestimating the spread of \n",
    "the data.\n",
    "In some cases, outliers may introduce additional variability or skewness to the dataset, affecting the overall distribution \n",
    "and shape of the data."
   ]
  },
  {
   "cell_type": "code",
   "execution_count": null,
   "id": "8ade1b3c-55f2-41f3-930c-5f11daf088fa",
   "metadata": {},
   "outputs": [],
   "source": []
  }
 ],
 "metadata": {
  "kernelspec": {
   "display_name": "Python 3 (ipykernel)",
   "language": "python",
   "name": "python3"
  },
  "language_info": {
   "codemirror_mode": {
    "name": "ipython",
    "version": 3
   },
   "file_extension": ".py",
   "mimetype": "text/x-python",
   "name": "python",
   "nbconvert_exporter": "python",
   "pygments_lexer": "ipython3",
   "version": "3.11.7"
  }
 },
 "nbformat": 4,
 "nbformat_minor": 5
}
